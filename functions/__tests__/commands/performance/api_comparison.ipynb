{
 "cells": [
  {
   "cell_type": "code",
   "execution_count": 9,
   "source": [
    "import yahooquery as yq\n",
    "import pyEX as iex\n",
    "from rich import print"
   ],
   "outputs": [],
   "metadata": {}
  },
  {
   "cell_type": "code",
   "execution_count": 19,
   "source": [
    "import requests\n",
    "import logging\n",
    "\n",
    "# These two lines enable debugging at httplib level (requests->urllib3->http.client)\n",
    "# You will see the REQUEST, including HEADERS and DATA, and RESPONSE with HEADERS but without DATA.\n",
    "# The only thing missing will be the response.body which is not logged.\n",
    "try:\n",
    "    import http.client as http_client\n",
    "except ImportError:\n",
    "    # Python 2\n",
    "    import httplib as http_client\n",
    "http_client.HTTPConnection.debuglevel = 1\n",
    "\n",
    "# You must initialize logging, otherwise you'll not see debug output.\n",
    "logging.basicConfig()\n",
    "logging.getLogger().setLevel(logging.DEBUG)\n",
    "requests_log = logging.getLogger(\"requests.packages.urllib3\")\n",
    "requests_log.setLevel(logging.DEBUG)\n",
    "requests_log.propagate = True\n"
   ],
   "outputs": [],
   "metadata": {}
  },
  {
   "cell_type": "code",
   "execution_count": 22,
   "source": [
    "# %timeit \n",
    "yq.Ticker(\"TSLA AAPL\").price"
   ],
   "outputs": [
    {
     "output_type": "stream",
     "name": "stderr",
     "text": [
      "DEBUG:urllib3.connectionpool:Starting new HTTPS connection (1): query2.finance.yahoo.com:443\n",
      "DEBUG:urllib3.connectionpool:https://query2.finance.yahoo.com:443 \"GET /v10/finance/quoteSummary/TSLA?modules=price&formatted=false&lang=en-US&region=US&corsDomain=finance.yahoo.com HTTP/1.1\" 200 921\n",
      "DEBUG:urllib3.connectionpool:https://query2.finance.yahoo.com:443 \"GET /v10/finance/quoteSummary/AAPL?modules=price&formatted=false&lang=en-US&region=US&corsDomain=finance.yahoo.com HTTP/1.1\" 200 923\n"
     ]
    },
    {
     "output_type": "stream",
     "name": "stdout",
     "text": [
      "send: b'GET /v10/finance/quoteSummary/TSLA?modules=price&formatted=false&lang=en-US&region=US&corsDomain=finance.yahoo.com HTTP/1.1\\r\\nHost: query2.finance.yahoo.com\\r\\nUser-Agent: Mozilla/5.0 (Windows NT 10.0) AppleWebKit/537.36 (KHTML, like Gecko) Chrome/81.0.4044.138 Safari/537.36\\r\\naccept-encoding: gzip, deflate, br\\r\\naccept: */*\\r\\nConnection: keep-alive\\r\\naccept-language: en-US,en;q=0.9\\r\\norigin: https://finance.yahoo.com\\r\\nreferer: https://finance.yahoo.com\\r\\nsec-fetch-dest: empty\\r\\nsec-fetch-mode: cors\\r\\nsec-fetch-site: same-site\\r\\n\\r\\n'\n",
      "reply: 'HTTP/1.1 200 OK\\r\\n'\n",
      "header: content-type: application/json;charset=utf-8\n",
      "header: access-control-allow-origin: https://finance.yahoo.com\n",
      "header: access-control-allow-credentials: true\n",
      "header: cache-control: public, max-age=1, stale-while-revalidate=9\n",
      "header: vary: Origin,Accept-Encoding\n",
      "header: y-rid: 94fdko9gifnk4\n",
      "header: x-yahoo-request-id: 94fdko9gifnk4\n",
      "header: x-request-id: 4e9bdc4d-05f2-43da-ae06-796f254b6afc\n",
      "header: content-length: 921\n",
      "header: x-envoy-upstream-service-time: 2\n",
      "header: date: Thu, 26 Aug 2021 18:33:39 GMT\n",
      "header: server: ATS\n",
      "header: x-envoy-decorator-operation: finance-company-fundamentals-api--mtls-production-ir2.finance-k8s.svc.yahoo.local:4080/*\n",
      "header: Age: 1\n",
      "header: Strict-Transport-Security: max-age=15552000\n",
      "header: Referrer-Policy: no-referrer-when-downgrade\n",
      "header: Connection: keep-alive\n",
      "header: Expect-CT: max-age=31536000, report-uri=\"http://csp.yahoo.com/beacon/csp?src=yahoocom-expect-ct-report-only\"\n",
      "header: X-XSS-Protection: 1; mode=block\n",
      "header: X-Content-Type-Options: nosniff\n",
      "send: b'GET /v10/finance/quoteSummary/AAPL?modules=price&formatted=false&lang=en-US&region=US&corsDomain=finance.yahoo.com HTTP/1.1\\r\\nHost: query2.finance.yahoo.com\\r\\nUser-Agent: Mozilla/5.0 (Windows NT 10.0) AppleWebKit/537.36 (KHTML, like Gecko) Chrome/81.0.4044.138 Safari/537.36\\r\\naccept-encoding: gzip, deflate, br\\r\\naccept: */*\\r\\nConnection: keep-alive\\r\\naccept-language: en-US,en;q=0.9\\r\\norigin: https://finance.yahoo.com\\r\\nreferer: https://finance.yahoo.com\\r\\nsec-fetch-dest: empty\\r\\nsec-fetch-mode: cors\\r\\nsec-fetch-site: same-site\\r\\n\\r\\n'\n",
      "reply: 'HTTP/1.1 200 OK\\r\\n'\n",
      "header: content-type: application/json;charset=utf-8\n",
      "header: access-control-allow-origin: https://finance.yahoo.com\n",
      "header: access-control-allow-credentials: true\n",
      "header: cache-control: public, max-age=1, stale-while-revalidate=9\n",
      "header: vary: Origin,Accept-Encoding\n",
      "header: y-rid: 8q1uhn5gifnk4\n",
      "header: x-yahoo-request-id: 8q1uhn5gifnk4\n",
      "header: x-request-id: 06d3bd53-07cb-46be-910d-f8ecfc6f488b\n",
      "header: content-length: 923\n",
      "header: x-envoy-upstream-service-time: 3\n",
      "header: date: Thu, 26 Aug 2021 18:33:39 GMT\n",
      "header: server: ATS\n",
      "header: x-envoy-decorator-operation: finance-company-fundamentals-api--mtls-production-ir2.finance-k8s.svc.yahoo.local:4080/*\n",
      "header: Age: 1\n",
      "header: Strict-Transport-Security: max-age=15552000\n",
      "header: Referrer-Policy: no-referrer-when-downgrade\n",
      "header: Connection: keep-alive\n",
      "header: Expect-CT: max-age=31536000, report-uri=\"http://csp.yahoo.com/beacon/csp?src=yahoocom-expect-ct-report-only\"\n",
      "header: X-XSS-Protection: 1; mode=block\n",
      "header: X-Content-Type-Options: nosniff\n"
     ]
    },
    {
     "output_type": "execute_result",
     "data": {
      "text/plain": [
       "{'TSLA': {'maxAge': 1,\n",
       "  'preMarketChangePercent': -0.0040213503,\n",
       "  'preMarketChange': -2.85999,\n",
       "  'preMarketTime': '2021-08-26 14:29:56',\n",
       "  'preMarketPrice': 708.34,\n",
       "  'preMarketSource': 'FREE_REALTIME',\n",
       "  'regularMarketChangePercent': -0.010095602,\n",
       "  'regularMarketChange': -7.1799927,\n",
       "  'regularMarketTime': '2021-08-26 19:33:33',\n",
       "  'priceHint': 2,\n",
       "  'regularMarketPrice': 704.02,\n",
       "  'regularMarketDayHigh': 715.4,\n",
       "  'regularMarketDayLow': 701.2162,\n",
       "  'regularMarketVolume': 9366405,\n",
       "  'regularMarketPreviousClose': 711.2,\n",
       "  'regularMarketSource': 'FREE_REALTIME',\n",
       "  'regularMarketOpen': 708.31,\n",
       "  'exchange': 'NMS',\n",
       "  'exchangeName': 'NasdaqGS',\n",
       "  'exchangeDataDelayedBy': 0,\n",
       "  'marketState': 'REGULAR',\n",
       "  'quoteType': 'EQUITY',\n",
       "  'symbol': 'TSLA',\n",
       "  'underlyingSymbol': None,\n",
       "  'shortName': 'Tesla, Inc.',\n",
       "  'longName': 'Tesla, Inc.',\n",
       "  'currency': 'USD',\n",
       "  'quoteSourceName': 'Nasdaq Real Time Price',\n",
       "  'currencySymbol': '$',\n",
       "  'fromCurrency': None,\n",
       "  'toCurrency': None,\n",
       "  'lastMarket': None,\n",
       "  'marketCap': 696990367744},\n",
       " 'AAPL': {'maxAge': 1,\n",
       "  'preMarketChangePercent': -0.000134836,\n",
       "  'preMarketChange': -0.0200043,\n",
       "  'preMarketTime': '2021-08-26 14:29:59',\n",
       "  'preMarketPrice': 148.34,\n",
       "  'preMarketSource': 'FREE_REALTIME',\n",
       "  'regularMarketChangePercent': -0.002595002,\n",
       "  'regularMarketChange': -0.3849945,\n",
       "  'regularMarketTime': '2021-08-26 19:33:38',\n",
       "  'priceHint': 2,\n",
       "  'regularMarketPrice': 147.975,\n",
       "  'regularMarketDayHigh': 149.12,\n",
       "  'regularMarketDayLow': 147.595,\n",
       "  'regularMarketVolume': 34888134,\n",
       "  'regularMarketPreviousClose': 148.36,\n",
       "  'regularMarketSource': 'FREE_REALTIME',\n",
       "  'regularMarketOpen': 148.35,\n",
       "  'exchange': 'NMS',\n",
       "  'exchangeName': 'NasdaqGS',\n",
       "  'exchangeDataDelayedBy': 0,\n",
       "  'marketState': 'REGULAR',\n",
       "  'quoteType': 'EQUITY',\n",
       "  'symbol': 'AAPL',\n",
       "  'underlyingSymbol': None,\n",
       "  'shortName': 'Apple Inc.',\n",
       "  'longName': 'Apple Inc.',\n",
       "  'currency': 'USD',\n",
       "  'quoteSourceName': 'Nasdaq Real Time Price',\n",
       "  'currencySymbol': '$',\n",
       "  'fromCurrency': None,\n",
       "  'toCurrency': None,\n",
       "  'lastMarket': None,\n",
       "  'marketCap': 2446056488960}}"
      ]
     },
     "metadata": {},
     "execution_count": 22
    }
   ],
   "metadata": {
    "scrolled": false
   }
  },
  {
   "cell_type": "code",
   "execution_count": 2,
   "source": [
    "%timeit yq.Ticker(\"TSLA\").price"
   ],
   "outputs": [
    {
     "output_type": "stream",
     "name": "stdout",
     "text": [
      "109 ms ± 4.16 ms per loop (mean ± std. dev. of 7 runs, 10 loops each)\n"
     ]
    }
   ],
   "metadata": {}
  },
  {
   "cell_type": "code",
   "execution_count": 17,
   "source": [
    "# iexfinance api\n",
    "%timeit Stock(\"TSLA\", token=\"sk_61d30f0acf5e447cba6eadbe95fccfd8\").get_quote()"
   ],
   "outputs": [
    {
     "output_type": "stream",
     "name": "stdout",
     "text": [
      "566 ms ± 23.7 ms per loop (mean ± std. dev. of 7 runs, 1 loop each)\n"
     ]
    }
   ],
   "metadata": {}
  },
  {
   "cell_type": "code",
   "execution_count": 12,
   "source": [
    "# Official API\n",
    "%timeit iex.Client(api_token=\"sk_61d30f0acf5e447cba6eadbe95fccfd8\").quote(\"TSLA\")"
   ],
   "outputs": [
    {
     "output_type": "stream",
     "name": "stdout",
     "text": [
      "522 ms ± 11.1 ms per loop (mean ± std. dev. of 7 runs, 1 loop each)\n"
     ]
    }
   ],
   "metadata": {}
  }
 ],
 "metadata": {
  "interpreter": {
   "hash": "41ac480019c7bcb0d58cfaa4f03e4e839d391c01ab341974607a76e2150c529f"
  },
  "kernelspec": {
   "display_name": "Python 3 (ipykernel)",
   "language": "python",
   "name": "python3"
  },
  "language_info": {
   "codemirror_mode": {
    "name": "ipython",
    "version": 3
   },
   "file_extension": ".py",
   "mimetype": "text/x-python",
   "name": "python",
   "nbconvert_exporter": "python",
   "pygments_lexer": "ipython3",
   "version": "3.9.2"
  }
 },
 "nbformat": 4,
 "nbformat_minor": 2
}