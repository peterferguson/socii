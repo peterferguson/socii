{
 "cells": [
  {
   "cell_type": "code",
   "execution_count": 10,
   "metadata": {},
   "outputs": [],
   "source": [
    "import yahooquery as yq\n",
    "from iexfinance.stocks import Stock"
   ]
  },
  {
   "cell_type": "code",
   "execution_count": 3,
   "metadata": {},
   "outputs": [],
   "source": [
    "import requests\n",
    "import logging\n",
    "\n",
    "# These two lines enable debugging at httplib level (requests->urllib3->http.client)\n",
    "# You will see the REQUEST, including HEADERS and DATA, and RESPONSE with HEADERS but without DATA.\n",
    "# The only thing missing will be the response.body which is not logged.\n",
    "try:\n",
    "    import http.client as http_client\n",
    "except ImportError:\n",
    "    # Python 2\n",
    "    import httplib as http_client\n",
    "http_client.HTTPConnection.debuglevel = 1\n",
    "\n",
    "# You must initialize logging, otherwise you'll not see debug output.\n",
    "logging.basicConfig()\n",
    "logging.getLogger().setLevel(logging.DEBUG)\n",
    "requests_log = logging.getLogger(\"requests.packages.urllib3\")\n",
    "requests_log.setLevel(logging.DEBUG)\n",
    "requests_log.propagate = True\n"
   ]
  },
  {
   "cell_type": "code",
   "execution_count": 5,
   "metadata": {
    "scrolled": false
   },
   "outputs": [
    {
     "name": "stderr",
     "output_type": "stream",
     "text": [
      "DEBUG:urllib3.connectionpool:Starting new HTTPS connection (1): query2.finance.yahoo.com:443\n",
      "DEBUG:urllib3.connectionpool:https://query2.finance.yahoo.com:443 \"GET /v10/finance/quoteSummary/TSLA?modules=price&formatted=false&lang=en-US&region=US&corsDomain=finance.yahoo.com HTTP/1.1\" 200 920\n"
     ]
    },
    {
     "name": "stdout",
     "output_type": "stream",
     "text": [
      "send: b'GET /v10/finance/quoteSummary/TSLA?modules=price&formatted=false&lang=en-US&region=US&corsDomain=finance.yahoo.com HTTP/1.1\\r\\nHost: query2.finance.yahoo.com\\r\\nUser-Agent: Mozilla/5.0 (Macintosh; Intel Mac OS X 10_15_4) AppleWebKit/537.36 (KHTML, like Gecko) Chrome/81.0.4044.138 Safari/537.36\\r\\naccept-encoding: gzip, deflate, br\\r\\naccept: */*\\r\\nConnection: keep-alive\\r\\naccept-language: en-US,en;q=0.9\\r\\norigin: https://finance.yahoo.com\\r\\nreferer: https://finance.yahoo.com\\r\\nsec-fetch-dest: empty\\r\\nsec-fetch-mode: cors\\r\\nsec-fetch-site: same-site\\r\\n\\r\\n'\n",
      "reply: 'HTTP/1.1 200 OK\\r\\n'\n",
      "header: content-type: application/json;charset=utf-8\n",
      "header: access-control-allow-origin: https://finance.yahoo.com\n",
      "header: access-control-allow-credentials: true\n",
      "header: cache-control: public, max-age=1, stale-while-revalidate=9\n",
      "header: vary: Origin,Accept-Encoding\n",
      "header: y-rid: aqmukqdgifm7f\n",
      "header: x-yahoo-request-id: aqmukqdgifm7f\n",
      "header: x-request-id: 8529a72c-3242-4bb7-ac86-0e99ad2446bf\n",
      "header: content-length: 920\n",
      "header: x-envoy-upstream-service-time: 2\n",
      "header: date: Thu, 26 Aug 2021 18:09:50 GMT\n",
      "header: server: ATS\n",
      "header: x-envoy-decorator-operation: finance-company-fundamentals-api--mtls-production-ir2.finance-k8s.svc.yahoo.local:4080/*\n",
      "header: Age: 1\n",
      "header: Strict-Transport-Security: max-age=15552000\n",
      "header: Referrer-Policy: no-referrer-when-downgrade\n",
      "header: Connection: keep-alive\n",
      "header: Expect-CT: max-age=31536000, report-uri=\"http://csp.yahoo.com/beacon/csp?src=yahoocom-expect-ct-report-only\"\n",
      "header: X-XSS-Protection: 1; mode=block\n",
      "header: X-Content-Type-Options: nosniff\n"
     ]
    },
    {
     "data": {
      "text/plain": [
       "{'TSLA': {'maxAge': 1,\n",
       "  'preMarketChangePercent': -0.0040213503,\n",
       "  'preMarketChange': -2.85999,\n",
       "  'preMarketTime': '2021-08-26 14:29:56',\n",
       "  'preMarketPrice': 708.34,\n",
       "  'preMarketSource': 'FREE_REALTIME',\n",
       "  'regularMarketChangePercent': -0.009308205,\n",
       "  'regularMarketChange': -6.619995,\n",
       "  'regularMarketTime': '2021-08-26 19:09:46',\n",
       "  'priceHint': 2,\n",
       "  'regularMarketPrice': 704.58,\n",
       "  'regularMarketDayHigh': 715.4,\n",
       "  'regularMarketDayLow': 701.2162,\n",
       "  'regularMarketVolume': 8994431,\n",
       "  'regularMarketPreviousClose': 711.2,\n",
       "  'regularMarketSource': 'FREE_REALTIME',\n",
       "  'regularMarketOpen': 708.31,\n",
       "  'exchange': 'NMS',\n",
       "  'exchangeName': 'NasdaqGS',\n",
       "  'exchangeDataDelayedBy': 0,\n",
       "  'marketState': 'REGULAR',\n",
       "  'quoteType': 'EQUITY',\n",
       "  'symbol': 'TSLA',\n",
       "  'underlyingSymbol': None,\n",
       "  'shortName': 'Tesla, Inc.',\n",
       "  'longName': 'Tesla, Inc.',\n",
       "  'currency': 'USD',\n",
       "  'quoteSourceName': 'Nasdaq Real Time Price',\n",
       "  'currencySymbol': '$',\n",
       "  'fromCurrency': None,\n",
       "  'toCurrency': None,\n",
       "  'lastMarket': None,\n",
       "  'marketCap': 697544736768}}"
      ]
     },
     "execution_count": 5,
     "metadata": {},
     "output_type": "execute_result"
    }
   ],
   "source": [
    "# %timeit \n",
    "yq.Ticker(\"TSLA\").price"
   ]
  },
  {
   "cell_type": "code",
   "execution_count": 17,
   "metadata": {},
   "outputs": [
    {
     "name": "stdout",
     "output_type": "stream",
     "text": [
      "566 ms ± 23.7 ms per loop (mean ± std. dev. of 7 runs, 1 loop each)\n"
     ]
    }
   ],
   "source": [
    "%timeit Stock(\"TSLA\", token=\"sk_61d30f0acf5e447cba6eadbe95fccfd8\").get_quote()"
   ]
  }
 ],
 "metadata": {
  "interpreter": {
   "hash": "41ac480019c7bcb0d58cfaa4f03e4e839d391c01ab341974607a76e2150c529f"
  },
  "kernelspec": {
   "display_name": "Python 3 (ipykernel)",
   "language": "python",
   "name": "python3"
  },
  "language_info": {
   "codemirror_mode": {
    "name": "ipython",
    "version": 3
   },
   "file_extension": ".py",
   "mimetype": "text/x-python",
   "name": "python",
   "nbconvert_exporter": "python",
   "pygments_lexer": "ipython3",
   "version": "3.9.2"
  }
 },
 "nbformat": 4,
 "nbformat_minor": 2
}
