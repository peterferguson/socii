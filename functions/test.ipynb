{
 "cells": [
  {
   "cell_type": "code",
   "execution_count": 1,
   "source": [
    "import yahooquery as yq\n",
    "\n",
    "yq.Ticker(\"O\").price"
   ],
   "outputs": [
    {
     "output_type": "execute_result",
     "data": {
      "text/plain": [
       "{'O': {'maxAge': 1,\n",
       "  'preMarketSource': 'FREE_REALTIME',\n",
       "  'postMarketChangePercent': 0.00361116,\n",
       "  'postMarketChange': 0.239998,\n",
       "  'postMarketTime': 1632527880,\n",
       "  'postMarketPrice': 66.7,\n",
       "  'postMarketSource': 'FREE_REALTIME',\n",
       "  'regularMarketChangePercent': -0.019474799,\n",
       "  'regularMarketChange': -1.32,\n",
       "  'regularMarketTime': '2021-09-24 21:00:03',\n",
       "  'priceHint': 2,\n",
       "  'regularMarketPrice': 66.46,\n",
       "  'regularMarketDayHigh': 67.82,\n",
       "  'regularMarketDayLow': 66.225,\n",
       "  'regularMarketVolume': 4079049,\n",
       "  'regularMarketPreviousClose': 67.78,\n",
       "  'regularMarketSource': 'FREE_REALTIME',\n",
       "  'regularMarketOpen': 67.56,\n",
       "  'exchange': 'NYQ',\n",
       "  'exchangeName': 'NYSE',\n",
       "  'exchangeDataDelayedBy': 0,\n",
       "  'marketState': 'CLOSED',\n",
       "  'quoteType': 'EQUITY',\n",
       "  'symbol': 'O',\n",
       "  'underlyingSymbol': None,\n",
       "  'shortName': 'Realty Income Corporation',\n",
       "  'longName': 'Realty Income Corporation',\n",
       "  'currency': 'USD',\n",
       "  'quoteSourceName': 'Nasdaq Real Time Price',\n",
       "  'currencySymbol': '$',\n",
       "  'fromCurrency': None,\n",
       "  'toCurrency': None,\n",
       "  'lastMarket': None,\n",
       "  'marketCap': 25878726656}}"
      ]
     },
     "metadata": {},
     "execution_count": 1
    }
   ],
   "metadata": {}
  },
  {
   "cell_type": "code",
   "execution_count": null,
   "source": [],
   "outputs": [],
   "metadata": {}
  }
 ],
 "metadata": {
  "orig_nbformat": 4,
  "language_info": {
   "name": "python",
   "version": "3.9.2",
   "mimetype": "text/x-python",
   "codemirror_mode": {
    "name": "ipython",
    "version": 3
   },
   "pygments_lexer": "ipython3",
   "nbconvert_exporter": "python",
   "file_extension": ".py"
  },
  "kernelspec": {
   "name": "python3",
   "display_name": "Python 3.9.2 64-bit (conda)"
  },
  "interpreter": {
   "hash": "41ac480019c7bcb0d58cfaa4f03e4e839d391c01ab341974607a76e2150c529f"
  }
 },
 "nbformat": 4,
 "nbformat_minor": 2
}